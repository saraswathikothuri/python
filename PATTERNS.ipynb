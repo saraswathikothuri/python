{
 "cells": [
  {
   "cell_type": "code",
   "execution_count": 1,
   "id": "4c599068",
   "metadata": {},
   "outputs": [
    {
     "name": "stdout",
     "output_type": "stream",
     "text": [
      "     \n",
      "    *\n",
      "   **\n",
      "  ***\n",
      " ****\n",
      "*****\n"
     ]
    }
   ],
   "source": [
    "n=5;i=0\n",
    "while(i<=n):\n",
    "  print(\" \" * (n - i) +\"*\" * i)\n",
    "  i+=1"
   ]
  },
  {
   "cell_type": "code",
   "execution_count": 2,
   "id": "5d707d00",
   "metadata": {},
   "outputs": [
    {
     "name": "stdout",
     "output_type": "stream",
     "text": [
      "    *\n",
      "   **\n",
      "  ***\n",
      " ****\n",
      "*****\n"
     ]
    }
   ],
   "source": [
    "height = 5\n",
    "for row in range(1, height+ 1):\n",
    "    print(\" \" * (height - row) +\"*\" * row)"
   ]
  },
  {
   "cell_type": "code",
   "execution_count": 3,
   "id": "cce1df56",
   "metadata": {},
   "outputs": [
    {
     "name": "stdout",
     "output_type": "stream",
     "text": [
      "    * \r\n",
      "   * * \r\n",
      "  * * * \r\n",
      " * * * * \r\n",
      "* * * * * \r\n"
     ]
    }
   ],
   "source": [
    "def triangle(n):\n",
    "    k = n - 1\n",
    "    for i in range(0, n):\n",
    "        for j in range(0, k):\n",
    "            print(end=\" \")\n",
    "        k = k - 1\n",
    "        for j in range(0, i+1):\n",
    "            print(\"* \", end=\"\")\n",
    "        print(\"\\r\")\n",
    "n = 5\n",
    "triangle(n)"
   ]
  }
 ],
 "metadata": {
  "kernelspec": {
   "display_name": "Python 3 (ipykernel)",
   "language": "python",
   "name": "python3"
  },
  "language_info": {
   "codemirror_mode": {
    "name": "ipython",
    "version": 3
   },
   "file_extension": ".py",
   "mimetype": "text/x-python",
   "name": "python",
   "nbconvert_exporter": "python",
   "pygments_lexer": "ipython3",
   "version": "3.9.13"
  }
 },
 "nbformat": 4,
 "nbformat_minor": 5
}
