{
 "cells": [
  {
   "cell_type": "code",
   "execution_count": 1,
   "id": "f4daa0b6",
   "metadata": {},
   "outputs": [
    {
     "name": "stdout",
     "output_type": "stream",
     "text": [
      "     \n",
      "    *\n",
      "   **\n",
      "  ***\n",
      " ****\n",
      "*****\n"
     ]
    }
   ],
   "source": [
    "n=5;i=0\n",
    "while(i<=n):\n",
    "  print(\" \" * (n - i) +\"*\" * i)\n",
    "  i+=1"
   ]
  },
  {
   "cell_type": "code",
   "execution_count": 2,
   "id": "8d467691",
   "metadata": {},
   "outputs": [
    {
     "name": "stdout",
     "output_type": "stream",
     "text": [
      "    *\n",
      "   **\n",
      "  ***\n",
      " ****\n",
      "*****\n"
     ]
    }
   ],
   "source": [
    "height = 5\n",
    "for row in range(1, height+ 1):\n",
    "    print(\" \" * (height - row) +\"*\" * row)"
   ]
  },
  {
   "cell_type": "code",
   "execution_count": null,
   "id": "b97454c6",
   "metadata": {},
   "outputs": [],
   "source": [
    "def triangle(n):\n",
    "     \n",
    "    k = n - 1\n",
    " \n",
    "    # outer loop to handle number of rows\n",
    "    for i in range(0, n):\n",
    "     \n",
    "        # inner loop to handle number spaces\n",
    "        # values changing acc. to requirement\n",
    "        for j in range(0, k):\n",
    "            print(end=\" \")\n",
    "     \n",
    "        # decrementing k after each loop\n",
    "        k = k - 1\n",
    "     \n",
    "        # inner loop to handle number of columns\n",
    "        # values changing acc. to outer loop\n",
    "        for j in range(0, i+1):\n",
    "         \n",
    "            # printing stars\n",
    "            print(\"* \", end=\"\")\n",
    "     \n",
    "        # ending line after each row\n",
    "        print(\"\\r\")\n",
    " \n",
    "# Driver Code\n",
    "n = 5\n",
    "triangle(n)"
   ]
  }
 ],
 "metadata": {
  "kernelspec": {
   "display_name": "Python 3 (ipykernel)",
   "language": "python",
   "name": "python3"
  },
  "language_info": {
   "codemirror_mode": {
    "name": "ipython",
    "version": 3
   },
   "file_extension": ".py",
   "mimetype": "text/x-python",
   "name": "python",
   "nbconvert_exporter": "python",
   "pygments_lexer": "ipython3",
   "version": "3.9.13"
  }
 },
 "nbformat": 4,
 "nbformat_minor": 5
}
